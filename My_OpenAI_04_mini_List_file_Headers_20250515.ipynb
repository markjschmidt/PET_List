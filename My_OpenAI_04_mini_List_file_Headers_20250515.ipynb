{
  "nbformat": 4,
  "nbformat_minor": 0,
  "metadata": {
    "colab": {
      "provenance": [],
      "authorship_tag": "ABX9TyNQNRSY72nAp17EnBuHYsVI",
      "include_colab_link": true
    },
    "kernelspec": {
      "name": "python3",
      "display_name": "Python 3"
    },
    "language_info": {
      "name": "python"
    }
  },
  "cells": [
    {
      "cell_type": "markdown",
      "metadata": {
        "id": "view-in-github",
        "colab_type": "text"
      },
      "source": [
        "<a href=\"https://colab.research.google.com/github/markjschmidt/PET_List/blob/main/My_OpenAI_04_mini_List_file_Headers_20250515.ipynb\" target=\"_parent\"><img src=\"https://colab.research.google.com/assets/colab-badge.svg\" alt=\"Open In Colab\"/></a>"
      ]
    },
    {
      "cell_type": "markdown",
      "source": [
        "## This is a follow up to simply reviewing the readlist.m file after discovering it relies on additional MATLAB files for reading header data in our Vereos List files.\n",
        "\n",
        "The supported List mode acquisition file type is 'XTAL' 16, the 8-byte Crystal List Mode that has no timestamps between buffers.\n",
        "\n",
        "It has two 32-bit data words of XPOS(B)-XPOS(A) ring X direction crystal followed by Z(B)-Z(A) Axial direction crystal numbers.\n",
        "\n",
        "This is followed by 32-bit control words that can cotain Singles Rate, Prompt Rate, Delays Rate, Elapsed time from Acq Start or Table Horizontal position values.\n",
        "\n",
        "\n",
        "\n",
        "\n",
        "\n"
      ],
      "metadata": {
        "id": "LMKxSIccO-q9"
      }
    },
    {
      "cell_type": "code",
      "execution_count": null,
      "metadata": {
        "colab": {
          "base_uri": "https://localhost:8080/"
        },
        "id": "91RvvUnzLUNZ",
        "outputId": "49e95bfe-1d4d-48aa-96b6-74a8db954fb3"
      },
      "outputs": [
        {
          "output_type": "stream",
          "name": "stdout",
          "text": [
            "/content\n"
          ]
        }
      ],
      "source": [
        "!pwd"
      ]
    },
    {
      "cell_type": "code",
      "source": [
        "!ls -la\n"
      ],
      "metadata": {
        "colab": {
          "base_uri": "https://localhost:8080/"
        },
        "id": "youZ510mM2FV",
        "outputId": "882b991e-731f-4979-ce91-2ab961b3b29f"
      },
      "execution_count": null,
      "outputs": [
        {
          "output_type": "stream",
          "name": "stdout",
          "text": [
            "total 1620\n",
            "drwxr-xr-x 1 root root    4096 May 16 03:57 .\n",
            "drwxr-xr-x 1 root root    4096 May 16 03:54 ..\n",
            "-rw-r--r-- 1 root root 1641744 May 16 03:57 3OCLK_2bd6.list\n",
            "drwxr-xr-x 4 root root    4096 May 14 13:38 .config\n",
            "drwxr-xr-x 1 root root    4096 May 14 13:38 sample_data\n"
          ]
        }
      ]
    },
    {
      "cell_type": "markdown",
      "source": [
        "## Focus on printing important Header values that are needed to help interpret the event data.\n",
        "\n",
        "My Prompt:\n",
        "\n",
        "I have attached additional MATLAB files to help with this follow up question. Using python in Google Colab, how can I print the main header (see imageio_getmhdr.m), the extended main header (see imageio_getexhdr.m) and the sub header (see imageio_getshdr.m) for a .list file? I have attached a relatively small .list file (see 3OCLK_2bd6.list) to analyze.\n",
        "\n",
        "\n",
        "o4:\n",
        "\n",
        "Reading documents\n",
        "\n",
        "The user uploaded multiple MATLAB files and a .list file, requesting Python code to replicate the functionality of three MATLAB functions. Their goal is to use Python, specifically in Google Colab, to parse and print the main header, extended main header, and sub-header in a similar fashion to the MATLAB scripts. I’ll need to write a Python script using the struct module to read and unpack the binary data from the .list file at the specified offsets. The user prefers not using MATLAB code here.\n",
        "\n",
        "To replicate the MATLAB code in Python, I need to:\n",
        "\n",
        "Open the file in 'rb' mode (big-endian).\n",
        "\n",
        "For the main header: seek to offset 512 and read 27 uint16s, plus various fields like file_fmt and scan_geom. I can use a class or dictionary to store these fields.\n",
        "\n",
        "For the extended header: seek to offset 1024 and read data after the main header without repositioning the file pointer. This mimics the MATLAB imageio_getexhdr behavior.\n",
        "\n",
        "For the sub-header: after the extended header, seek to 9216 to get to the sub-header.\n",
        "\n",
        "I’ll implement this sequential logic in Python.\n",
        "\n",
        "To replicate the MATLAB logic in Python, I can use fixed offsets for each header. Start by seeking to offset 512 for the main header, reading 512 bytes, and using struct to unpack the data (27 uint16 values, a uint32, float32 values, etc.). After that, move to offset 1024 for the extended header and read further bytes using struct.unpack. Finally, for the subheader, seek to 9216 and follow a similar process. I could write a general function to read these structured fields into a Python dictionary for clarity and ease of use.\n",
        "\n"
      ],
      "metadata": {
        "id": "v1XbQNDyLlNP"
      }
    },
    {
      "cell_type": "code",
      "source": [
        "import struct\n",
        "import pprint\n",
        "\n",
        "def _read_uint16(f, count=1):\n",
        "    \"\"\"Read big-endian unsigned 16-bit integers.\"\"\"\n",
        "    data = f.read(2 * count)\n",
        "    return struct.unpack('>' + 'H' * count, data) if count > 1 else struct.unpack('>H', data)[0]\n",
        "\n",
        "def _read_uint32(f, count=1):\n",
        "    \"\"\"Read big-endian unsigned 32-bit integers.\"\"\"\n",
        "    data = f.read(4 * count)\n",
        "    return struct.unpack('>' + 'I' * count, data) if count > 1 else struct.unpack('>I', data)[0]\n",
        "\n",
        "def _read_float32(f, count=1):\n",
        "    \"\"\"Read big-endian IEEE 754 floats.\"\"\"\n",
        "    data = f.read(4 * count)\n",
        "    return struct.unpack('>' + 'f' * count, data) if count > 1 else struct.unpack('>f', data)[0]\n",
        "\n",
        "def read_main_header(filepath):\n",
        "    hdr = {}\n",
        "    with open(filepath, 'rb') as f:\n",
        "        # Main header starts at byte offset 512\n",
        "        f.seek(512)\n",
        "        # Signature and core fields: 27 x uint16 (bytes 0–53 relative)\n",
        "        vals = struct.unpack('>27H', f.read(54))\n",
        "        # Check characteristic signature (256,0,22)\n",
        "        sig = (vals[0], vals[1], vals[2])\n",
        "        if sig != (256, 0, 22):\n",
        "            hdr['signature_warning'] = sig\n",
        "        hdr['file_fmt']   = vals[3]\n",
        "        hdr['scan_geom'] = vals[4]\n",
        "        hdr['hw_config'] = vals[5]\n",
        "        hdr['edit_flag'] = vals[8]\n",
        "        if hdr['file_fmt'] > 13:\n",
        "            hdr['list_byte_ord'] = vals[9]\n",
        "        hdr['filtyp']    = vals[26]\n",
        "\n",
        "        # Next: 1 x uint32 (minTransXtalDiff), 1 x float32 (tofTstampScale)\n",
        "        hdr['minTransXtalDiff'] = _read_uint32(f)\n",
        "        hdr['tofTstampScale']   = _read_float32(f)\n",
        "\n",
        "        # Next 12 x uint16: creation date/time + acquisition flags\n",
        "        date_vals = struct.unpack('>12H', f.read(24))\n",
        "        hdr.update({\n",
        "            'daycre':  date_vals[2],\n",
        "            'mocre':   date_vals[3],\n",
        "            'yrcre':   date_vals[4],\n",
        "            'hrcre':   date_vals[5],\n",
        "            'mincre':  date_vals[6],\n",
        "            'seccre':  date_vals[7],\n",
        "            'duratn':  date_vals[8],\n",
        "            'shdtyp':  date_vals[9],\n",
        "            'sngpscl': date_vals[10],\n",
        "            'singopt': date_vals[11]\n",
        "        })\n",
        "\n",
        "        # Next floats: pscale, detectorRadius\n",
        "        hdr['pscale']         = _read_float32(f)\n",
        "        hdr['detectorRadius'] = _read_float32(f)\n",
        "\n",
        "        # Next 5 x uint16: virtualXtal, phiMashing, polygonSides, xtalsPerSide, nXtalRows\n",
        "        v = struct.unpack('>5H', f.read(10))\n",
        "        hdr.update(dict(zip(\n",
        "            ['virtualXtal','phiMashing','polygonSides','xtalsPerSide','nXtalRows'], v\n",
        "        )))\n",
        "\n",
        "        # Next floats: crystalThickness, xXtalPitch, zXtalPitch, axialFov\n",
        "        floats = struct.unpack('>4f', f.read(16))\n",
        "        hdr.update(dict(zip(\n",
        "            ['crystalThickness','xXtalPitch','zXtalPitch','axialFov'], floats\n",
        "        )))\n",
        "\n",
        "        # Next 11 x uint16: rphiType, sliceType, delayType, pattyp, scntyp, numray, numang, slcthk, (plus isotop if file<15)\n",
        "        uints = struct.unpack('>11H', f.read(22))\n",
        "        hdr.update({\n",
        "            'rphiType':  uints[0],\n",
        "            'sliceType': uints[1],\n",
        "            'delayType': uints[2],\n",
        "            'pattyp':    uints[5],\n",
        "            'scntyp':    uints[6],\n",
        "            'numray':    uints[7],\n",
        "            'numang':    uints[8],\n",
        "            'slcthk':    uints[9]\n",
        "        })\n",
        "        if hdr['file_fmt'] < 15:\n",
        "            hdr['isotop'] = uints[10]\n",
        "    return hdr\n",
        "\n",
        "def read_extended_header(filepath, file_fmt):\n",
        "    hdr = {}\n",
        "    with open(filepath, 'rb') as f:\n",
        "        # Extended header starts at byte offset 1024\n",
        "        f.seek(1024)\n",
        "        # Bytes 0–255: 4 strings of 64 chars\n",
        "        names = ['Dpat_name','Dpat_id','study_uid','series_uid']\n",
        "        for name in names:\n",
        "            hdr[name] = f.read(64).decode('ascii').rstrip('\\x00')\n",
        "        # Bytes 256–295: 40 bytes: view_code (20), sortproto_name (20 if fmt<15)\n",
        "        hdr['view_code'] = f.read(20).decode('ascii').rstrip('\\x00')\n",
        "        if file_fmt < 15:\n",
        "            hdr['sortproto_name'] = f.read(20).decode('ascii').rstrip('\\x00')\n",
        "        else:\n",
        "            f.seek(20, 1)\n",
        "        # Bytes 296–297: uint16 route\n",
        "        hdr['route'] = _read_uint16(f)\n",
        "        # Bytes 298–299: pharm (if fmt<15) else skip\n",
        "        if file_fmt < 15:\n",
        "            hdr['pharm'] = _read_uint16(f)\n",
        "        else:\n",
        "            f.seek(2, 1)\n",
        "        # Bytes 300–363: req_phys (64 chars)\n",
        "        hdr['req_phys'] = f.read(64).decode('ascii').rstrip('\\x00')\n",
        "        # Next uint16: card_phstate\n",
        "        hdr['card_phstate'] = _read_uint16(f)\n",
        "        # Next int32: assay_date; next uint32: assay_time\n",
        "        hdr['assay_date'] = struct.unpack('>i', f.read(4))[0]\n",
        "        hdr['assay_time'] = _read_uint32(f)\n",
        "        # Next 64 chars: series_desc\n",
        "        hdr['series_desc'] = f.read(64).decode('ascii').rstrip('\\x00')\n",
        "        # You can continue reading other fields per imageio_getexhdr.m...\n",
        "    return hdr\n",
        "\n",
        "def read_sub_header(filepath, file_fmt):\n",
        "    hdr = {}\n",
        "    with open(filepath, 'rb') as f:\n",
        "        # Sub-header starts at byte offset 18*512 = 9216\n",
        "        f.seek(9216)\n",
        "        # Bytes 0–15: 8 x uint16; version is 8th\n",
        "        vals = struct.unpack('>8H', f.read(16))\n",
        "        hdr['version'] = vals[7]\n",
        "        # Bytes 16–31: 16 chars: atten_corr\n",
        "        hdr['atten_corr'] = f.read(16).decode('ascii').rstrip('\\x00')\n",
        "        # Bytes 32–47: 4 floats: actual_bedpos + 3 orientation floats\n",
        "        bed_and_orient = struct.unpack('>4f', f.read(16))\n",
        "        hdr['actual_bedpos'] = bed_and_orient[0]\n",
        "        hdr['orientation']   = bed_and_orient[1:]\n",
        "        # Bytes 52–63: 3 floats: orientation[3:6]\n",
        "        more_orient = struct.unpack('>3f', f.read(12))\n",
        "        hdr['orientation'] += more_orient\n",
        "        # Bytes 64–79: 4 x uint32: card_fr_time, card_high_rr, card_low_rr, card_tr_time\n",
        "        cft = struct.unpack('>4I', f.read(16))\n",
        "        hdr.update(dict(zip(\n",
        "            ['card_fr_time','card_high_rr','card_low_rr','card_tr_time'], cft\n",
        "        )))\n",
        "        # Continue following imageio_getshdr.m for other fields...\n",
        "    return hdr\n",
        "\n",
        "# Usage example (in Colab):\n",
        "filepath = '3OCLK_2bd6.list'\n",
        "main_hdr = read_main_header(filepath)\n",
        "ex_hdr   = read_extended_header(filepath, main_hdr['file_fmt'])\n",
        "sub_hdr  = read_sub_header(filepath, main_hdr['file_fmt'])\n",
        "\n",
        "print(\"=== Main Header ===\")\n",
        "pprint.pprint(main_hdr)\n",
        "print(\"\\n=== Extended Header ===\")\n",
        "pprint.pprint(ex_hdr)\n",
        "print(\"\\n=== Sub Header ===\")\n",
        "pprint.pprint(sub_hdr)\n",
        "\n"
      ],
      "metadata": {
        "colab": {
          "base_uri": "https://localhost:8080/"
        },
        "id": "6GA6hRmyL9lc",
        "outputId": "fc56267e-c516-49c3-cdd0-66c542fbc076"
      },
      "execution_count": null,
      "outputs": [
        {
          "output_type": "stream",
          "name": "stdout",
          "text": [
            "=== Main Header ===\n",
            "{'axialFov': 164.0,\n",
            " 'crystalThickness': 19.0,\n",
            " 'daycre': 31,\n",
            " 'delayType': 1,\n",
            " 'detectorRadius': 382.0,\n",
            " 'duratn': 0,\n",
            " 'edit_flag': 0,\n",
            " 'file_fmt': 15,\n",
            " 'filtyp': 6,\n",
            " 'hrcre': 18,\n",
            " 'hw_config': 3697,\n",
            " 'list_byte_ord': 1,\n",
            " 'minTransXtalDiff': 84,\n",
            " 'mincre': 0,\n",
            " 'mocre': 11,\n",
            " 'nXtalRows': 40,\n",
            " 'numang': 65535,\n",
            " 'numray': 65535,\n",
            " 'pattyp': 1,\n",
            " 'phiMashing': 65535,\n",
            " 'polygonSides': 18,\n",
            " 'pscale': 1.0,\n",
            " 'rphiType': 1,\n",
            " 'scan_geom': 113,\n",
            " 'scntyp': 3,\n",
            " 'seccre': 0,\n",
            " 'shdtyp': 1,\n",
            " 'singopt': 0,\n",
            " 'slcthk': 1,\n",
            " 'sliceType': 2,\n",
            " 'sngpscl': 0,\n",
            " 'tofTstampScale': 1.9531249881299395e-11,\n",
            " 'virtualXtal': 0,\n",
            " 'xXtalPitch': 4.099999904632568,\n",
            " 'xtalsPerSide': 32,\n",
            " 'yrcre': 1969,\n",
            " 'zXtalPitch': 4.099999904632568}\n",
            "\n",
            "=== Extended Header ===\n",
            "{'Dpat_id': '00000087',\n",
            " 'Dpat_name': 'SERVICE_Anonymous^BUTTON SRC EMISSION',\n",
            " 'assay_date': 0,\n",
            " 'assay_time': 0,\n",
            " 'card_phstate': 0,\n",
            " 'req_phys': '',\n",
            " 'route': 1,\n",
            " 'series_desc': '9O Emission QC',\n",
            " 'series_uid': '1.3.46.670589.28.2.2.440632742027474.1747090498.28446',\n",
            " 'study_uid': '1.3.46.670589.33.1.63882669105110583500001.5167219758300344890',\n",
            " 'view_code': ''}\n",
            "\n",
            "=== Sub Header ===\n",
            "{'actual_bedpos': 0.0,\n",
            " 'atten_corr': 'UNDEFINED',\n",
            " 'card_fr_time': 0,\n",
            " 'card_high_rr': 0,\n",
            " 'card_low_rr': 0,\n",
            " 'card_tr_time': 0,\n",
            " 'orientation': (0.0, 0.0, 0.0, 3.489747452705202e-39, 0.0, 0.0),\n",
            " 'version': 1}\n"
          ]
        }
      ]
    },
    {
      "cell_type": "markdown",
      "source": [
        "o4:\n",
        "\n",
        "The code above defines three functions:\n",
        "\n",
        "read_main_header — seeks to byte 512 in the list file, reads the same fields that imageio_getmhdr.m does (signature, format version, geometry, timing scales, etc.), and returns them in a Python dict.\n",
        "\n",
        "read_extended_header — seeks to byte 1024, reads patient and study IDs, view codes, measurement timestamps, etc., exactly as imageio_getexhdr.m lays out.\n",
        "\n",
        "read_sub_header — seeks to byte 9216, reads gating/version information, table position, image orientation, etc., matching imageio_getshdr.m.\n",
        "\n",
        "You can drop this into a Colab cell (just upload 3OCLK_2bd6.list alongside these functions) and run:\n"
      ],
      "metadata": {
        "id": "Cd1N113LMGaQ"
      }
    },
    {
      "cell_type": "code",
      "source": [
        "main_hdr = read_main_header('3OCLK_2bd6.list')\n",
        "ex_hdr   = read_extended_header('3OCLK_2bd6.list', main_hdr['file_fmt'])\n",
        "sub_hdr  = read_sub_header('3OCLK_2bd6.list', main_hdr['file_fmt'])\n",
        "\n",
        "import pprint\n",
        "print(\"=== Main Header ===\");      pprint.pprint(main_hdr)\n",
        "print(\"\\n=== Extended Header ===\"); pprint.pprint(ex_hdr)\n",
        "print(\"\\n=== Sub Header ===\");     pprint.pprint(sub_hdr)\n",
        "\n"
      ],
      "metadata": {
        "colab": {
          "base_uri": "https://localhost:8080/"
        },
        "id": "VD66BnMwMJTp",
        "outputId": "c5c3fd6a-82c8-4e69-921b-f21e9c384a32"
      },
      "execution_count": null,
      "outputs": [
        {
          "output_type": "stream",
          "name": "stdout",
          "text": [
            "=== Main Header ===\n",
            "{'axialFov': 164.0,\n",
            " 'crystalThickness': 19.0,\n",
            " 'daycre': 31,\n",
            " 'delayType': 1,\n",
            " 'detectorRadius': 382.0,\n",
            " 'duratn': 0,\n",
            " 'edit_flag': 0,\n",
            " 'file_fmt': 15,\n",
            " 'filtyp': 6,\n",
            " 'hrcre': 18,\n",
            " 'hw_config': 3697,\n",
            " 'list_byte_ord': 1,\n",
            " 'minTransXtalDiff': 84,\n",
            " 'mincre': 0,\n",
            " 'mocre': 11,\n",
            " 'nXtalRows': 40,\n",
            " 'numang': 65535,\n",
            " 'numray': 65535,\n",
            " 'pattyp': 1,\n",
            " 'phiMashing': 65535,\n",
            " 'polygonSides': 18,\n",
            " 'pscale': 1.0,\n",
            " 'rphiType': 1,\n",
            " 'scan_geom': 113,\n",
            " 'scntyp': 3,\n",
            " 'seccre': 0,\n",
            " 'shdtyp': 1,\n",
            " 'singopt': 0,\n",
            " 'slcthk': 1,\n",
            " 'sliceType': 2,\n",
            " 'sngpscl': 0,\n",
            " 'tofTstampScale': 1.9531249881299395e-11,\n",
            " 'virtualXtal': 0,\n",
            " 'xXtalPitch': 4.099999904632568,\n",
            " 'xtalsPerSide': 32,\n",
            " 'yrcre': 1969,\n",
            " 'zXtalPitch': 4.099999904632568}\n",
            "\n",
            "=== Extended Header ===\n",
            "{'Dpat_id': '00000087',\n",
            " 'Dpat_name': 'SERVICE_Anonymous^BUTTON SRC EMISSION',\n",
            " 'assay_date': 0,\n",
            " 'assay_time': 0,\n",
            " 'card_phstate': 0,\n",
            " 'req_phys': '',\n",
            " 'route': 1,\n",
            " 'series_desc': '9O Emission QC',\n",
            " 'series_uid': '1.3.46.670589.28.2.2.440632742027474.1747090498.28446',\n",
            " 'study_uid': '1.3.46.670589.33.1.63882669105110583500001.5167219758300344890',\n",
            " 'view_code': ''}\n",
            "\n",
            "=== Sub Header ===\n",
            "{'actual_bedpos': 0.0,\n",
            " 'atten_corr': 'UNDEFINED',\n",
            " 'card_fr_time': 0,\n",
            " 'card_high_rr': 0,\n",
            " 'card_low_rr': 0,\n",
            " 'card_tr_time': 0,\n",
            " 'orientation': (0.0, 0.0, 0.0, 3.489747452705202e-39, 0.0, 0.0),\n",
            " 'version': 1}\n"
          ]
        }
      ]
    },
    {
      "cell_type": "markdown",
      "source": [
        "This will dump out each header’s fields in human-readable form. You can extend each function to cover more of the fields shown in the MATLAB files by following the same pattern of seek, struct.unpack, and assigning into the dict.\n",
        "\n"
      ],
      "metadata": {
        "id": "jF-V9-UmMNqz"
      }
    },
    {
      "cell_type": "markdown",
      "source": [
        "## Note: Convert 'tofTstampScale':\n",
        "from 1.9531249881299395e-11 seconds to 19.531249881 picoseconds"
      ],
      "metadata": {
        "id": "Fgta05NNNlCc"
      }
    },
    {
      "cell_type": "markdown",
      "source": [
        "My additional Prompt:\n",
        "\n",
        "## Can we also print values for c_h_w_b the Coincidence Half Window Bins at 0x07D0 of Extended Main Header?\n",
        "\n",
        "\n",
        "For two events to be considered by the system as a coincidence event their timestamps must differ\n",
        "by less than this number of timing bins.\n",
        "Added for Veyron.\n",
        "Note: To convert from timing bins to an actual time value in picoseconds, use the tofTstampScale\n",
        "field, which is the time in picoseconds per timing bin\n",
        "\n",
        "\n",
        "\n",
        "\n",
        "o4:\n",
        "\n",
        "It seems the user is looking for specifics on how to print values from an extended header, such as c_h_w_b and other fields like coil_type and pet_software_version. We’ve previously provided code to parse the extended header starting at offset 1024, but it didn’t go through all the necessary fields. Now, they’ve given me a better memory map to parse. The next step is to seek to the right offsets and read the values, especially focusing on c_h_w_b, which is an unsigned short at offset 0x07D0.\n",
        "\n",
        "It looks like the user is asking about how to work with memory offsets in the extended header, which starts at byte 1024. I need to calculate the absolute file offsets based on the relative ones in the page 4 continuation of the memory map. The extended header's starting point is at 1024, and page 4 offsets like 0x0700 need to be added. I realize the next step will be to adjust the code: I'll use f.seek(1024 + 0x07D0) to correctly access the c_h_w_b field at that location.\n",
        "\n",
        "\n"
      ],
      "metadata": {
        "id": "-2yewCUuQXmI"
      }
    },
    {
      "cell_type": "code",
      "source": [
        "import struct\n",
        "\n",
        "# Path to your list file\n",
        "filepath = '3OCLK_2bd6.list'\n",
        "\n",
        "with open(filepath, 'rb') as f:\n",
        "    # Extended header base offset\n",
        "    ext_base = 1024\n",
        "\n",
        "    # Offset of c_h_w_b within extended header: 0x07D0\n",
        "    chwb_offset = ext_base + 0x07D0\n",
        "\n",
        "    # Seek and read one big‑endian uint16\n",
        "    f.seek(chwb_offset, 0)\n",
        "    c_h_w_b = struct.unpack('>H', f.read(2))[0]\n",
        "\n",
        "print(f\"Coincidence half-window bins (c_h_w_b) at 0x07D0: {c_h_w_b}\")\n",
        "\n"
      ],
      "metadata": {
        "colab": {
          "base_uri": "https://localhost:8080/"
        },
        "id": "P50KqHa3Qi8d",
        "outputId": "824e89c1-0203-4d9e-ceca-4787ebe1adb6"
      },
      "execution_count": null,
      "outputs": [
        {
          "output_type": "stream",
          "name": "stdout",
          "text": [
            "Coincidence half-window bins (c_h_w_b) at 0x07D0: 119\n"
          ]
        }
      ]
    },
    {
      "cell_type": "markdown",
      "source": [
        "o4:\n",
        "\n",
        "That snippet reads the 2-byte unsigned c_h_w_b field at offset 0x07D0 in the extended header and prints it.\n",
        "\n",
        "If you prefer to integrate this into your read_extended_header function, just add:\n",
        "\n",
        "\n",
        "    # After all your other reads in read_extended_header(...)\n",
        "    # Jump to c_h_w_b\n",
        "    f.seek(1024 + 0x07D0)\n",
        "    hdr['c_h_w_b'] = struct.unpack('>H', f.read(2))[0]\n",
        "\n",
        "Then when you call:\n",
        "\n",
        "ex_hdr = read_extended_header('3OCLK_2bd6.list', main_hdr['file_fmt'])\n",
        "print(\"c_h_w_b:\", ex_hdr['c_h_w_b'])\n",
        "\n",
        "\n",
        "\n",
        "you’ll see the scanner’s configured coincidence half-window bins value.\n",
        "\n",
        "\n",
        "\n",
        "\n"
      ],
      "metadata": {
        "id": "au8is4lcQo1e"
      }
    },
    {
      "cell_type": "markdown",
      "source": [
        "## Note:  \n",
        "Coincidence half-window bins (c_h_w_b) at 0x07D0: 119 x\n",
        "'tofTstampScale': 1.9531249881299395e-11 =  19.5 picoseconds =\n",
        "2,320 picoseconds max allowed tof value to be a coincidence event.\n",
        "\n",
        "For 676 FOV, the time it takes for light to travel the max 676 mm is approx. 2,260 picoseconds!\n",
        "\n",
        "The event tof value is in bins, so for our button source taped close to bore cover diameter, the approx. max tof value is 108 to 118 this x 19.5 picoseconds is 2,106 to 2,301 picoseconds.\n",
        "\n",
        "## Also Note:\n",
        "A minimum tof difference of 0 would be a normal distribution around 19.5 picoseconds wide.\n",
        "\n"
      ],
      "metadata": {
        "id": "uAB0ewTpWozS"
      }
    },
    {
      "cell_type": "markdown",
      "source": [
        "## Take a brief look at 576 FOV list data:\n"
      ],
      "metadata": {
        "id": "yWGNvnstdGXf"
      }
    },
    {
      "cell_type": "code",
      "source": [
        "import struct\n",
        "\n",
        "# Path to your list file\n",
        "#filepath = '3OCLK_2bd6.list'\n",
        "filepath = '500K_37f3.list'\n",
        "\n",
        "with open(filepath, 'rb') as f:\n",
        "    # Extended header base offset\n",
        "    ext_base = 1024\n",
        "\n",
        "    # Offset of c_h_w_b within extended header: 0x07D0\n",
        "    chwb_offset = ext_base + 0x07D0\n",
        "\n",
        "    # Seek and read one big‑endian uint16\n",
        "    f.seek(chwb_offset, 0)\n",
        "    c_h_w_b = struct.unpack('>H', f.read(2))[0]\n",
        "\n",
        "print(f\"Coincidence half-window bins (c_h_w_b) at 0x07D0: {c_h_w_b}\")\n"
      ],
      "metadata": {
        "colab": {
          "base_uri": "https://localhost:8080/"
        },
        "id": "gex5ZUHRdLGb",
        "outputId": "10df8d41-4756-4a67-b043-db3b8f6116ec"
      },
      "execution_count": null,
      "outputs": [
        {
          "output_type": "stream",
          "name": "stdout",
          "text": [
            "Coincidence half-window bins (c_h_w_b) at 0x07D0: 103\n"
          ]
        }
      ]
    },
    {
      "cell_type": "markdown",
      "source": [
        "For 576 FOV time for light to travel full LOR length = 1,920 picoseconds.\n",
        "listPrint tof max approx. 98 to 103  = 1,911 to 2,008 picoseconds.\n",
        "\n"
      ],
      "metadata": {
        "id": "yldnRFm6ecAb"
      }
    }
  ]
}